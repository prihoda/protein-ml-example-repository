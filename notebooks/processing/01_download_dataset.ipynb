{
 "cells": [
  {
   "cell_type": "code",
   "execution_count": 12,
   "id": "105bf937-9f33-4a48-b2d7-afcda8ec705e",
   "metadata": {},
   "outputs": [],
   "source": [
    "mkdir -p ../../data/proteingym/cv_folds_multiples_substitutions"
   ]
  },
  {
   "cell_type": "code",
   "execution_count": 1,
   "id": "cb48449d-94c7-46e0-9e88-b307531822ef",
   "metadata": {},
   "outputs": [
    {
     "name": "stdout",
     "output_type": "stream",
     "text": [
      "--2025-04-28 10:31:38--  https://marks.hms.harvard.edu/proteingym/DMS_msa_files.zip\n",
      "Resolving marks.hms.harvard.edu (marks.hms.harvard.edu)... 134.174.159.103\n",
      "Connecting to marks.hms.harvard.edu (marks.hms.harvard.edu)|134.174.159.103|:443... connected.\n",
      "HTTP request sent, awaiting response... 200 OK\n",
      "Length: 1504361305 (1,4G) [application/zip]\n",
      "Saving to: ‘/tmp/DMS_msa_files.zip’\n",
      "\n",
      "/tmp/DMS_msa_files.  12%[=>                  ] 179,04M  2,04MB/s    eta 8m 38s ^C\n"
     ]
    }
   ],
   "source": [
    "!wget -O /tmp/DMS_msa_files.zip https://marks.hms.harvard.edu/proteingym/DMS_msa_files.zip"
   ]
  },
  {
   "cell_type": "code",
   "execution_count": 2,
   "id": "98bcc195-0bb0-47dd-bd79-a21dd02d04fd",
   "metadata": {},
   "outputs": [
    {
     "name": "stdout",
     "output_type": "stream",
     "text": [
      "--2025-04-28 10:32:58--  https://marks.hms.harvard.edu/proteingym/cv_folds_multiples_substitutions.zip\n",
      "Resolving marks.hms.harvard.edu (marks.hms.harvard.edu)... 134.174.159.103\n",
      "Connecting to marks.hms.harvard.edu (marks.hms.harvard.edu)|134.174.159.103|:443... connected.\n",
      "HTTP request sent, awaiting response... 200 OK\n",
      "Length: 33967587 (32M) [application/zip]\n",
      "Saving to: ‘/tmp/cv_folds_multiples_substitutions.zip’\n",
      "\n",
      "/tmp/cv_folds_multi 100%[===================>]  32,39M  4,29MB/s    in 17s     \n",
      "\n",
      "2025-04-28 10:33:19 (1,93 MB/s) - ‘/tmp/cv_folds_multiples_substitutions.zip’ saved [33967587/33967587]\n",
      "\n"
     ]
    }
   ],
   "source": [
    "!wget -O /tmp/cv_folds_multiples_substitutions.zip https://marks.hms.harvard.edu/proteingym/cv_folds_multiples_substitutions.zip"
   ]
  },
  {
   "cell_type": "code",
   "execution_count": 14,
   "id": "56f5e36d-4cc6-4af4-84e6-3abd26d346fe",
   "metadata": {},
   "outputs": [
    {
     "name": "stdout",
     "output_type": "stream",
     "text": [
      "Archive:  /tmp/cv_folds_multiples_substitutions.zip\n",
      "  inflating: ../../data/proteingym/cv_folds_multiples_substitutions/SDA_BACSU_Tsuboyama_2023_1PV0.csv  \n",
      "  inflating: ../../data/proteingym/cv_folds_multiples_substitutions/HIS7_YEAST_Pokusaeva_2019.csv  \n",
      "  inflating: ../../data/proteingym/cv_folds_multiples_substitutions/PABP_YEAST_Melamed_2013.csv  \n",
      "  inflating: ../../data/proteingym/cv_folds_multiples_substitutions/DOCK1_MOUSE_Tsuboyama_2023_2M0Y.csv  \n",
      "  inflating: ../../data/proteingym/cv_folds_multiples_substitutions/MYO3_YEAST_Tsuboyama_2023_2BTT.csv  \n",
      "  inflating: ../../data/proteingym/cv_folds_multiples_substitutions/CBPA2_HUMAN_Tsuboyama_2023_1O6X.csv  \n",
      "  inflating: ../../data/proteingym/cv_folds_multiples_substitutions/RAD_ANTMA_Tsuboyama_2023_2CJJ.csv  \n",
      "  inflating: ../../data/proteingym/cv_folds_multiples_substitutions/CATR_CHLRE_Tsuboyama_2023_2AMI.csv  \n",
      "  inflating: ../../data/proteingym/cv_folds_multiples_substitutions/SRBS1_HUMAN_Tsuboyama_2023_2O2W.csv  \n",
      "  inflating: ../../data/proteingym/cv_folds_multiples_substitutions/A4_HUMAN_Seuma_2022.csv  \n",
      "  inflating: ../../data/proteingym/cv_folds_multiples_substitutions/AMFR_HUMAN_Tsuboyama_2023_4G3O.csv  \n",
      "  inflating: ../../data/proteingym/cv_folds_multiples_substitutions/SR43C_ARATH_Tsuboyama_2023_2N88.csv  \n",
      "  inflating: ../../data/proteingym/cv_folds_multiples_substitutions/SPA_STAAU_Tsuboyama_2023_1LP1.csv  \n",
      "  inflating: ../../data/proteingym/cv_folds_multiples_substitutions/FECA_ECOLI_Tsuboyama_2023_2D1U.csv  \n",
      "  inflating: ../../data/proteingym/cv_folds_multiples_substitutions/PHOT_CHLRE_Chen_2023.csv  \n",
      "  inflating: ../../data/proteingym/cv_folds_multiples_substitutions/SPG1_STRSG_Olson_2014.csv  \n",
      "  inflating: ../../data/proteingym/cv_folds_multiples_substitutions/NKX31_HUMAN_Tsuboyama_2023_2L9R.csv  \n",
      "  inflating: ../../data/proteingym/cv_folds_multiples_substitutions/EPHB2_HUMAN_Tsuboyama_2023_1F0M.csv  \n",
      "  inflating: ../../data/proteingym/cv_folds_multiples_substitutions/DLG4_HUMAN_Faure_2021.csv  \n",
      "  inflating: ../../data/proteingym/cv_folds_multiples_substitutions/F7YBW8_MESOW_Ding_2023.csv  \n",
      "  inflating: ../../data/proteingym/cv_folds_multiples_substitutions/RASK_HUMAN_Weng_2022_abundance.csv  \n",
      "  inflating: ../../data/proteingym/cv_folds_multiples_substitutions/UBE4B_HUMAN_Tsuboyama_2023_3L1X.csv  \n",
      "  inflating: ../../data/proteingym/cv_folds_multiples_substitutions/UBR5_HUMAN_Tsuboyama_2023_1I2T.csv  \n",
      "  inflating: ../../data/proteingym/cv_folds_multiples_substitutions/DNJA1_HUMAN_Tsuboyama_2023_2LO1.csv  \n",
      "  inflating: ../../data/proteingym/cv_folds_multiples_substitutions/GCN4_YEAST_Staller_2018.csv  \n",
      "  inflating: ../../data/proteingym/cv_folds_multiples_substitutions/CSN4_MOUSE_Tsuboyama_2023_1UFM.csv  \n",
      "  inflating: ../../data/proteingym/cv_folds_multiples_substitutions/BCHB_CHLTE_Tsuboyama_2023_2KRU.csv  \n",
      "  inflating: ../../data/proteingym/cv_folds_multiples_substitutions/RFAH_ECOLI_Tsuboyama_2023_2LCL.csv  \n",
      "  inflating: ../../data/proteingym/cv_folds_multiples_substitutions/NUSA_ECOLI_Tsuboyama_2023_1WCL.csv  \n",
      "  inflating: ../../data/proteingym/cv_folds_multiples_substitutions/RCRO_LAMBD_Tsuboyama_2023_1ORC.csv  \n",
      "  inflating: ../../data/proteingym/cv_folds_multiples_substitutions/SAV1_MOUSE_Tsuboyama_2023_2YSB.csv  \n",
      "  inflating: ../../data/proteingym/cv_folds_multiples_substitutions/SPTN1_CHICK_Tsuboyama_2023_1TUD.csv  \n",
      "  inflating: ../../data/proteingym/cv_folds_multiples_substitutions/RBP1_HUMAN_Tsuboyama_2023_2KWH.csv  \n",
      "  inflating: ../../data/proteingym/cv_folds_multiples_substitutions/HECD1_HUMAN_Tsuboyama_2023_3DKM.csv  \n",
      "  inflating: ../../data/proteingym/cv_folds_multiples_substitutions/YAP1_HUMAN_Araya_2012.csv  \n",
      "  inflating: ../../data/proteingym/cv_folds_multiples_substitutions/D7PM05_CLYGR_Somermeyer_2022.csv  \n",
      "  inflating: ../../data/proteingym/cv_folds_multiples_substitutions/TNKS2_HUMAN_Tsuboyama_2023_5JRT.csv  \n",
      "  inflating: ../../data/proteingym/cv_folds_multiples_substitutions/BBC1_YEAST_Tsuboyama_2023_1TG0.csv  \n",
      "  inflating: ../../data/proteingym/cv_folds_multiples_substitutions/GFP_AEQVI_Sarkisyan_2016.csv  \n",
      "  inflating: ../../data/proteingym/cv_folds_multiples_substitutions/MAFG_MOUSE_Tsuboyama_2023_1K1V.csv  \n",
      "  inflating: ../../data/proteingym/cv_folds_multiples_substitutions/RASK_HUMAN_Weng_2022_binding-DARPin_K55.csv  \n",
      "  inflating: ../../data/proteingym/cv_folds_multiples_substitutions/ODP2_GEOSE_Tsuboyama_2023_1W4G.csv  \n",
      "  inflating: ../../data/proteingym/cv_folds_multiples_substitutions/THO1_YEAST_Tsuboyama_2023_2WQG.csv  \n",
      "  inflating: ../../data/proteingym/cv_folds_multiples_substitutions/RPC1_BP434_Tsuboyama_2023_1R69.csv  \n",
      "  inflating: ../../data/proteingym/cv_folds_multiples_substitutions/RL20_AQUAE_Tsuboyama_2023_1GYZ.csv  \n",
      "  inflating: ../../data/proteingym/cv_folds_multiples_substitutions/RD23A_HUMAN_Tsuboyama_2023_1IFY.csv  \n",
      "  inflating: ../../data/proteingym/cv_folds_multiples_substitutions/ISDH_STAAW_Tsuboyama_2023_2LHR.csv  \n",
      "  inflating: ../../data/proteingym/cv_folds_multiples_substitutions/PR40A_HUMAN_Tsuboyama_2023_1UZC.csv  \n",
      "  inflating: ../../data/proteingym/cv_folds_multiples_substitutions/GRB2_HUMAN_Faure_2021.csv  \n",
      "  inflating: ../../data/proteingym/cv_folds_multiples_substitutions/RCD1_ARATH_Tsuboyama_2023_5OAO.csv  \n",
      "  inflating: ../../data/proteingym/cv_folds_multiples_substitutions/NUSG_MYCTU_Tsuboyama_2023_2MI6.csv  \n",
      "  inflating: ../../data/proteingym/cv_folds_multiples_substitutions/PSAE_PICP2_Tsuboyama_2023_1PSE.csv  \n",
      "  inflating: ../../data/proteingym/cv_folds_multiples_substitutions/CAPSD_AAV2S_Sinai_2021.csv  \n",
      "  inflating: ../../data/proteingym/cv_folds_multiples_substitutions/F7YBW8_MESOW_Aakre_2015.csv  \n",
      "  inflating: ../../data/proteingym/cv_folds_multiples_substitutions/Q8WTC7_9CNID_Somermeyer_2022.csv  \n",
      "  inflating: ../../data/proteingym/cv_folds_multiples_substitutions/YAIA_ECOLI_Tsuboyama_2023_2KVT.csv  \n",
      "  inflating: ../../data/proteingym/cv_folds_multiples_substitutions/Q6WV12_9MAXI_Somermeyer_2022.csv  \n",
      "  inflating: ../../data/proteingym/cv_folds_multiples_substitutions/PITX2_HUMAN_Tsuboyama_2023_2L7M.csv  \n",
      "  inflating: ../../data/proteingym/cv_folds_multiples_substitutions/CUE1_YEAST_Tsuboyama_2023_2MYX.csv  \n",
      "  inflating: ../../data/proteingym/cv_folds_multiples_substitutions/VILI_CHICK_Tsuboyama_2023_1YU5.csv  \n",
      "  inflating: ../../data/proteingym/cv_folds_multiples_substitutions/SPG2_STRSG_Tsuboyama_2023_5UBS.csv  \n",
      "  inflating: ../../data/proteingym/cv_folds_multiples_substitutions/PIN1_HUMAN_Tsuboyama_2023_1I6C.csv  \n",
      "  inflating: ../../data/proteingym/cv_folds_multiples_substitutions/SPG1_STRSG_Wu_2016.csv  \n",
      "  inflating: ../../data/proteingym/cv_folds_multiples_substitutions/TCRG1_MOUSE_Tsuboyama_2023_1E0L.csv  \n",
      "  inflating: ../../data/proteingym/cv_folds_multiples_substitutions/CBX4_HUMAN_Tsuboyama_2023_2K28.csv  \n",
      "  inflating: ../../data/proteingym/cv_folds_multiples_substitutions/OBSCN_HUMAN_Tsuboyama_2023_1V1C.csv  \n",
      "  inflating: ../../data/proteingym/cv_folds_multiples_substitutions/MBD11_ARATH_Tsuboyama_2023_6ACV.csv  \n",
      "  inflating: ../../data/proteingym/cv_folds_multiples_substitutions/YNZC_BACSU_Tsuboyama_2023_2JVD.csv  \n",
      "  inflating: ../../data/proteingym/cv_folds_multiples_substitutions/POLG_PESV_Tsuboyama_2023_2MXD.csv  \n"
     ]
    }
   ],
   "source": [
    "!unzip /tmp/cv_folds_multiples_substitutions.zip -d ../../data/proteingym/"
   ]
  },
  {
   "cell_type": "code",
   "execution_count": 15,
   "id": "ae4fed26-40aa-4ade-9123-0288f966189d",
   "metadata": {},
   "outputs": [
    {
     "name": "stdout",
     "output_type": "stream",
     "text": [
      "mutant,mutated_sequence,DMS_score,DMS_score_bin,mutation_depth,fold_rand_multiples\n",
      "A14C,NLYFQGLKYMVPGCRVTRGLDWKWRDQDGSPQGEGTVTGELHNGWIDVTWDAGGSNSYRMGAEGKFDLKLAP,0.2863520023709176,1,1,0\n",
      "A14D,NLYFQGLKYMVPGDRVTRGLDWKWRDQDGSPQGEGTVTGELHNGWIDVTWDAGGSNSYRMGAEGKFDLKLAP,-1.0439028739358065,0,1,3\n",
      "A14E,NLYFQGLKYMVPGERVTRGLDWKWRDQDGSPQGEGTVTGELHNGWIDVTWDAGGSNSYRMGAEGKFDLKLAP,-1.5423564756453938,0,1,2\n",
      "A14F,NLYFQGLKYMVPGFRVTRGLDWKWRDQDGSPQGEGTVTGELHNGWIDVTWDAGGSNSYRMGAEGKFDLKLAP,-1.740191656661808,0,1,1\n",
      "A14G,NLYFQGLKYMVPGGRVTRGLDWKWRDQDGSPQGEGTVTGELHNGWIDVTWDAGGSNSYRMGAEGKFDLKLAP,-1.8601825409523145,0,1,3\n",
      "A14H,NLYFQGLKYMVPGHRVTRGLDWKWRDQDGSPQGEGTVTGELHNGWIDVTWDAGGSNSYRMGAEGKFDLKLAP,-1.773056733316695,0,1,0\n",
      "A14I,NLYFQGLKYMVPGIRVTRGLDWKWRDQDGSPQGEGTVTGELHNGWIDVTWDAGGSNSYRMGAEGKFDLKLAP,-0.6597711924320102,1,1,4\n",
      "A14K,NLYFQGLKYMVPGKRVTRGLDWKWRDQDGSPQGEGTVTGELHNGWIDVTWDAGGSNSYRMGAEGKFDLKLAP,-1.224893656120968,0,1,2\n",
      "A14L,NLYFQGLKYMVPGLRVTRGLDWKWRDQDGSPQGEGTVTGELHNGWIDVTWDAGGSNSYRMGAEGKFDLKLAP,-1.061982271585941,0,1,3\n"
     ]
    }
   ],
   "source": [
    "!head ../../data/proteingym/cv_folds_multiples_substitutions/HECD1_HUMAN_Tsuboyama_2023_3DKM.csv"
   ]
  },
  {
   "cell_type": "code",
   "execution_count": 16,
   "id": "951d3dd2-09a7-4bab-9c78-64991f2e6094",
   "metadata": {},
   "outputs": [],
   "source": [
    "import pandas as pd"
   ]
  },
  {
   "cell_type": "code",
   "execution_count": 17,
   "id": "1160a783-846c-497f-806c-94c1a1b75329",
   "metadata": {},
   "outputs": [
    {
     "data": {
      "text/html": [
       "<div>\n",
       "<style scoped>\n",
       "    .dataframe tbody tr th:only-of-type {\n",
       "        vertical-align: middle;\n",
       "    }\n",
       "\n",
       "    .dataframe tbody tr th {\n",
       "        vertical-align: top;\n",
       "    }\n",
       "\n",
       "    .dataframe thead th {\n",
       "        text-align: right;\n",
       "    }\n",
       "</style>\n",
       "<table border=\"1\" class=\"dataframe\">\n",
       "  <thead>\n",
       "    <tr style=\"text-align: right;\">\n",
       "      <th></th>\n",
       "      <th>mutant</th>\n",
       "      <th>mutated_sequence</th>\n",
       "      <th>DMS_score</th>\n",
       "      <th>DMS_score_bin</th>\n",
       "      <th>mutation_depth</th>\n",
       "      <th>fold_rand_multiples</th>\n",
       "    </tr>\n",
       "  </thead>\n",
       "  <tbody>\n",
       "    <tr>\n",
       "      <th>0</th>\n",
       "      <td>A14C</td>\n",
       "      <td>NLYFQGLKYMVPGCRVTRGLDWKWRDQDGSPQGEGTVTGELHNGWI...</td>\n",
       "      <td>0.286352</td>\n",
       "      <td>1</td>\n",
       "      <td>1</td>\n",
       "      <td>0</td>\n",
       "    </tr>\n",
       "    <tr>\n",
       "      <th>1</th>\n",
       "      <td>A14D</td>\n",
       "      <td>NLYFQGLKYMVPGDRVTRGLDWKWRDQDGSPQGEGTVTGELHNGWI...</td>\n",
       "      <td>-1.043903</td>\n",
       "      <td>0</td>\n",
       "      <td>1</td>\n",
       "      <td>3</td>\n",
       "    </tr>\n",
       "    <tr>\n",
       "      <th>2</th>\n",
       "      <td>A14E</td>\n",
       "      <td>NLYFQGLKYMVPGERVTRGLDWKWRDQDGSPQGEGTVTGELHNGWI...</td>\n",
       "      <td>-1.542356</td>\n",
       "      <td>0</td>\n",
       "      <td>1</td>\n",
       "      <td>2</td>\n",
       "    </tr>\n",
       "    <tr>\n",
       "      <th>3</th>\n",
       "      <td>A14F</td>\n",
       "      <td>NLYFQGLKYMVPGFRVTRGLDWKWRDQDGSPQGEGTVTGELHNGWI...</td>\n",
       "      <td>-1.740192</td>\n",
       "      <td>0</td>\n",
       "      <td>1</td>\n",
       "      <td>1</td>\n",
       "    </tr>\n",
       "    <tr>\n",
       "      <th>4</th>\n",
       "      <td>A14G</td>\n",
       "      <td>NLYFQGLKYMVPGGRVTRGLDWKWRDQDGSPQGEGTVTGELHNGWI...</td>\n",
       "      <td>-1.860183</td>\n",
       "      <td>0</td>\n",
       "      <td>1</td>\n",
       "      <td>3</td>\n",
       "    </tr>\n",
       "  </tbody>\n",
       "</table>\n",
       "</div>"
      ],
      "text/plain": [
       "  mutant                                   mutated_sequence  DMS_score  \\\n",
       "0   A14C  NLYFQGLKYMVPGCRVTRGLDWKWRDQDGSPQGEGTVTGELHNGWI...   0.286352   \n",
       "1   A14D  NLYFQGLKYMVPGDRVTRGLDWKWRDQDGSPQGEGTVTGELHNGWI...  -1.043903   \n",
       "2   A14E  NLYFQGLKYMVPGERVTRGLDWKWRDQDGSPQGEGTVTGELHNGWI...  -1.542356   \n",
       "3   A14F  NLYFQGLKYMVPGFRVTRGLDWKWRDQDGSPQGEGTVTGELHNGWI...  -1.740192   \n",
       "4   A14G  NLYFQGLKYMVPGGRVTRGLDWKWRDQDGSPQGEGTVTGELHNGWI...  -1.860183   \n",
       "\n",
       "   DMS_score_bin  mutation_depth  fold_rand_multiples  \n",
       "0              1               1                    0  \n",
       "1              0               1                    3  \n",
       "2              0               1                    2  \n",
       "3              0               1                    1  \n",
       "4              0               1                    3  "
      ]
     },
     "execution_count": 17,
     "metadata": {},
     "output_type": "execute_result"
    }
   ],
   "source": [
    "df = pd.read_csv('../../data/proteingym/cv_folds_multiples_substitutions/HECD1_HUMAN_Tsuboyama_2023_3DKM.csv')\n",
    "df.head()"
   ]
  }
 ],
 "metadata": {
  "kernelspec": {
   "display_name": "Python 3 (ipykernel)",
   "language": "python",
   "name": "python3"
  },
  "language_info": {
   "codemirror_mode": {
    "name": "ipython",
    "version": 3
   },
   "file_extension": ".py",
   "mimetype": "text/x-python",
   "name": "python",
   "nbconvert_exporter": "python",
   "pygments_lexer": "ipython3",
   "version": "3.11.12"
  }
 },
 "nbformat": 4,
 "nbformat_minor": 5
}
